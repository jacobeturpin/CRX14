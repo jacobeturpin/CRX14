{
  "nbformat": 4,
  "nbformat_minor": 0,
  "metadata": {
    "colab": {
      "name": "CRX14.ipynb",
      "provenance": [],
      "collapsed_sections": [],
      "toc_visible": true,
      "include_colab_link": true
    },
    "kernelspec": {
      "name": "python3",
      "display_name": "Python 3"
    },
    "accelerator": "GPU"
  },
  "cells": [
    {
      "cell_type": "markdown",
      "metadata": {
        "id": "view-in-github",
        "colab_type": "text"
      },
      "source": [
        "<a href=\"https://colab.research.google.com/github/jacobeturpin/CXR14/blob/load-and-train/CRX14.ipynb\" target=\"_parent\"><img src=\"https://colab.research.google.com/assets/colab-badge.svg\" alt=\"Open In Colab\"/></a>"
      ]
    },
    {
      "cell_type": "markdown",
      "metadata": {
        "id": "7bB3DldvpObM",
        "colab_type": "text"
      },
      "source": [
        "# Predicting Thorax Diseases Using the ChestX-Ray14 Dataset and Convolutional Techniques"
      ]
    },
    {
      "cell_type": "markdown",
      "metadata": {
        "id": "FXhSxMq-psXO",
        "colab_type": "text"
      },
      "source": [
        "## Introduction"
      ]
    },
    {
      "cell_type": "markdown",
      "metadata": {
        "id": "iT90eb80pkGv",
        "colab_type": "text"
      },
      "source": [
        "Dataset provided by the National Institute of Health at: https://nihcc.app.box.com/v/ChestXray-NIHCC\n",
        "\n",
        "*Random subset provided [here](https://www.kaggle.com/nih-chest-xrays/sample)*"
      ]
    },
    {
      "cell_type": "markdown",
      "metadata": {
        "id": "Ew4p6DVkpp-x",
        "colab_type": "text"
      },
      "source": [
        "## Setup"
      ]
    },
    {
      "cell_type": "code",
      "metadata": {
        "id": "Dd2cKO1gGmO_",
        "colab_type": "code",
        "colab": {}
      },
      "source": [
        "%tensorflow_version 2.x\n",
        "!pip install keras --upgrade --quiet\n",
        "!pip install efficientnet --quiet"
      ],
      "execution_count": 0,
      "outputs": []
    },
    {
      "cell_type": "code",
      "metadata": {
        "id": "qmYtGTLV0JX_",
        "colab_type": "code",
        "colab": {}
      },
      "source": [
        "import gzip\n",
        "import os\n",
        "import time\n",
        "from urllib.request import urlretrieve\n",
        "\n",
        "import pandas as pd\n",
        "\n",
        "import keras\n",
        "from keras.applications import DenseNet121, ResNet50\n",
        "from keras.callbacks import EarlyStopping, ModelCheckpoint\n",
        "from keras.layers import Dense, Flatten\n",
        "from keras.metrics import AUC\n",
        "from keras.models import Model\n",
        "from keras.preprocessing.image import ImageDataGenerator\n",
        "\n",
        "from sklearn.model_selection import train_test_split\n",
        "from sklearn.preprocessing import MultiLabelBinarizer\n",
        "\n",
        "import efficientnet.keras as efn"
      ],
      "execution_count": 0,
      "outputs": []
    },
    {
      "cell_type": "code",
      "metadata": {
        "id": "642FMtzhgOml",
        "colab_type": "code",
        "colab": {}
      },
      "source": [
        "DATA_PATH = './drive/My Drive/CRX14/sample/'\n",
        "EPOCHS = 50\n",
        "BATCH_SIZE = 32\n",
        "CLASSES = [\n",
        "  'Hernia',\n",
        "  'Pneumonia',\n",
        "  'Fibrosis',\n",
        "  'Edema',\n",
        "  'Emphysema',\n",
        "  'Cardiomegaly',\n",
        "  'Pleural_Thickening',\n",
        "  'Consolidation',\n",
        "  'Pneumothorax',\n",
        "  'Mass',\n",
        "  'Nodule',\n",
        "  'Atelectasis',\n",
        "  'Effusion',\n",
        "  'Infiltration',\n",
        "  'No Finding'\n",
        "]\n",
        "CHECKPOINT_DIR = './models/'"
      ],
      "execution_count": 0,
      "outputs": []
    },
    {
      "cell_type": "markdown",
      "metadata": {
        "id": "0h1PivYspzie",
        "colab_type": "text"
      },
      "source": [
        "## Data Loading"
      ]
    },
    {
      "cell_type": "markdown",
      "metadata": {
        "id": "SDEMOcOzZBux",
        "colab_type": "text"
      },
      "source": [
        "### Full Dataset"
      ]
    },
    {
      "cell_type": "code",
      "metadata": {
        "id": "xgBDI5H1pyfX",
        "colab_type": "code",
        "colab": {}
      },
      "source": [
        "def batch_download(first_n=None):\n",
        "\n",
        "  # URLs for the zip files\n",
        "  links = [\n",
        "    'https://nihcc.box.com/shared/static/vfk49d74nhbxq3nqjg0900w5nvkorp5c.gz',\n",
        "    'https://nihcc.box.com/shared/static/i28rlmbvmfjbl8p2n3ril0pptcmcu9d1.gz',\n",
        "    'https://nihcc.box.com/shared/static/f1t00wrtdk94satdfb9olcolqx20z2jp.gz',\n",
        "    'https://nihcc.box.com/shared/static/0aowwzs5lhjrceb3qp67ahp0rd1l1etg.gz',\n",
        "    'https://nihcc.box.com/shared/static/v5e3goj22zr6h8tzualxfsqlqaygfbsn.gz',\n",
        "    'https://nihcc.box.com/shared/static/asi7ikud9jwnkrnkj99jnpfkjdes7l6l.gz',\n",
        "    'https://nihcc.box.com/shared/static/jn1b4mw4n6lnh74ovmcjb8y48h8xj07n.gz',\n",
        "    'https://nihcc.box.com/shared/static/tvpxmn7qyrgl0w8wfh9kqfjskv6nmm1j.gz',\n",
        "    'https://nihcc.box.com/shared/static/upyy3ml7qdumlgk2rfcvlb9k6gvqq2pj.gz',\n",
        "    'https://nihcc.box.com/shared/static/l6nilvfa9cg3s28tqv1qc1olm3gnz54p.gz',\n",
        "    'https://nihcc.box.com/shared/static/hhq8fkdgvcari67vfhs7ppg2w6ni4jze.gz',\n",
        "    'https://nihcc.box.com/shared/static/ioqwiy20ihqwyr8pf4c24eazhh281pbu.gz'\n",
        "  ]\n",
        "\n",
        "  first_n = first_n or len(links)\n",
        "\n",
        "  if first_n > len(links):\n",
        "    raise('Number of files requested exceeds amount available')\n",
        "\n",
        "  for idx, link in enumerate(links[:first_n]):\n",
        "      fn = 'images_%02d.tar.gz' % (idx+1)\n",
        "      print('downloading', fn, '...')\n",
        "      urlretrieve(link, fn)  # download the zip file\n",
        "  \n",
        "  print(\"Download complete. Please check the checksums\")"
      ],
      "execution_count": 0,
      "outputs": []
    },
    {
      "cell_type": "code",
      "metadata": {
        "id": "OyHN8qUKqfWy",
        "colab_type": "code",
        "colab": {}
      },
      "source": [
        "#batch_download(1)"
      ],
      "execution_count": 0,
      "outputs": []
    },
    {
      "cell_type": "code",
      "metadata": {
        "id": "mAsSprMerFeQ",
        "colab_type": "code",
        "colab": {}
      },
      "source": [
        "def extract_gzip(filename):\n",
        "  f = gzip.open(filename, 'rb')\n",
        "  file_content = f.read()\n",
        "  # TODO: implement save decompressed\n",
        "  f.close()"
      ],
      "execution_count": 0,
      "outputs": []
    },
    {
      "cell_type": "code",
      "metadata": {
        "id": "Wdm9OIWJaEBG",
        "colab_type": "code",
        "colab": {}
      },
      "source": [
        "for fn in os.listdir():\n",
        "  if '.tar.gz' in fn:\n",
        "    extract_gzip(fn)"
      ],
      "execution_count": 0,
      "outputs": []
    },
    {
      "cell_type": "markdown",
      "metadata": {
        "id": "esxwUNiPZEbY",
        "colab_type": "text"
      },
      "source": [
        "### Sample Dataset"
      ]
    },
    {
      "cell_type": "code",
      "metadata": {
        "id": "ZLWux_o8YOlI",
        "colab_type": "code",
        "colab": {}
      },
      "source": [
        "from google.colab import drive\n",
        "drive.mount('/content/drive')"
      ],
      "execution_count": 0,
      "outputs": []
    },
    {
      "cell_type": "code",
      "metadata": {
        "id": "gZqQQhrRZGls",
        "colab_type": "code",
        "colab": {}
      },
      "source": [
        "df = pd.read_csv(DATA_PATH + 'sample/sample_labels.csv')\n",
        "df.head()"
      ],
      "execution_count": 0,
      "outputs": []
    },
    {
      "cell_type": "code",
      "metadata": {
        "id": "pvBUKA7VZGiS",
        "colab_type": "code",
        "colab": {}
      },
      "source": [
        "df['Finding Labels'] = df['Finding Labels'].apply(lambda s: s.split('|'))\n",
        "df.head()"
      ],
      "execution_count": 0,
      "outputs": []
    },
    {
      "cell_type": "code",
      "metadata": {
        "id": "Q26FvnPaZGbT",
        "colab_type": "code",
        "colab": {}
      },
      "source": [
        "# https://stackoverflow.com/questions/45312377/how-to-one-hot-encode-from-a-pandas-column-containing-a-list\n",
        "\n",
        "mlb = MultiLabelBinarizer()\n",
        "df = df.join(pd.DataFrame(mlb.fit_transform(df.pop('Finding Labels')),\n",
        "                          columns=mlb.classes_,\n",
        "                          index=df.index))\n",
        "df.head()"
      ],
      "execution_count": 0,
      "outputs": []
    },
    {
      "cell_type": "code",
      "metadata": {
        "id": "R-7HPeAYafaJ",
        "colab_type": "code",
        "colab": {}
      },
      "source": [
        "df = df[['Image Index'] + CLASSES]\n",
        "df.head()"
      ],
      "execution_count": 0,
      "outputs": []
    },
    {
      "cell_type": "code",
      "metadata": {
        "id": "vNhw9HP0reFt",
        "colab_type": "code",
        "colab": {}
      },
      "source": [
        "df[CLASSES].value_counts()"
      ],
      "execution_count": 0,
      "outputs": []
    },
    {
      "cell_type": "markdown",
      "metadata": {
        "id": "XQNDU1UQfo7Z",
        "colab_type": "text"
      },
      "source": [
        "## Data Preparation"
      ]
    },
    {
      "cell_type": "markdown",
      "metadata": {
        "id": "_QcCBayTioFm",
        "colab_type": "text"
      },
      "source": [
        "The ChestX-ray14 dataset is too large to fit entirely in memory when training; therefore, it's incrementally loaded via generator to reduce memory overhead. This is achieved using the Keras [Image Proprocessing](https://keras.io/preprocessing/image/) submodule."
      ]
    },
    {
      "cell_type": "code",
      "metadata": {
        "id": "O_Z594-jgZR4",
        "colab_type": "code",
        "colab": {}
      },
      "source": [
        "# https://datascience.stackexchange.com/a/17445/91316\n",
        "\n",
        "train_df, test_df = train_test_split(df, test_size=0.2)\n",
        "\n",
        "print('Training/Validation Samples:  {}'.format(len(train_df)))\n",
        "print('Test Samples:  {}'.format(len(test_df)))"
      ],
      "execution_count": 0,
      "outputs": []
    },
    {
      "cell_type": "code",
      "metadata": {
        "id": "xoNzB7hxfrF8",
        "colab_type": "code",
        "colab": {}
      },
      "source": [
        "train_datagen = ImageDataGenerator(\n",
        "    rescale=1./255,\n",
        "    validation_split=0.25\n",
        ")\n",
        "test_datagen = ImageDataGenerator(rescale=1./255)"
      ],
      "execution_count": 0,
      "outputs": []
    },
    {
      "cell_type": "code",
      "metadata": {
        "id": "PvVnvolUfrDQ",
        "colab_type": "code",
        "colab": {}
      },
      "source": [
        "train_generator = train_datagen.flow_from_dataframe(\n",
        "    dataframe=train_df,\n",
        "    directory=DATA_PATH + 'sample/images/',\n",
        "    x_col='Image Index',\n",
        "    y_col=CLASSES,\n",
        "    subset='training',\n",
        "    batch_size=BATCH_SIZE,\n",
        "    shuffle=True,\n",
        "    class_mode='raw',\n",
        "    #classes=CLASSES,\n",
        "    target_size=(224, 224)\n",
        ")"
      ],
      "execution_count": 0,
      "outputs": []
    },
    {
      "cell_type": "code",
      "metadata": {
        "id": "kuwjWrMkfq__",
        "colab_type": "code",
        "colab": {}
      },
      "source": [
        "valid_generator = train_datagen.flow_from_dataframe(\n",
        "    dataframe=train_df,\n",
        "    directory=DATA_PATH + 'sample/images/',\n",
        "    x_col='Image Index',\n",
        "    y_col=CLASSES,\n",
        "    subset='validation',\n",
        "    batch_size=BATCH_SIZE,\n",
        "    shuffle=True,\n",
        "    class_mode='raw',\n",
        "    #classes=[],\n",
        "    target_size=(224, 224)\n",
        ")"
      ],
      "execution_count": 0,
      "outputs": []
    },
    {
      "cell_type": "code",
      "metadata": {
        "id": "pS5sk9pkfq7I",
        "colab_type": "code",
        "colab": {}
      },
      "source": [
        "test_generator = test_datagen.flow_from_dataframe(\n",
        "    dataframe=test_df,\n",
        "    directory=DATA_PATH + 'sample/images/',\n",
        "    x_col='Image Index',\n",
        "    y_col=CLASSES,\n",
        "    batch_size=BATCH_SIZE,\n",
        "    shuffle=False,\n",
        "    class_mode='raw',\n",
        "    #classes=[],\n",
        "    target_size=(224, 224)\n",
        ")"
      ],
      "execution_count": 0,
      "outputs": []
    },
    {
      "cell_type": "markdown",
      "metadata": {
        "id": "69tzlzeaYn4I",
        "colab_type": "text"
      },
      "source": [
        "## Modeling"
      ]
    },
    {
      "cell_type": "code",
      "metadata": {
        "id": "cjKQR6Ani1ox",
        "colab_type": "code",
        "colab": {}
      },
      "source": [
        "class TimeHistory(keras.callbacks.Callback):\n",
        "  \"\"\"Object used on keras callbacks to measure epoch training time\n",
        "  \n",
        "  Args:\n",
        "    None\n",
        "\n",
        "  Params:\n",
        "    time (list): collection of times in seconds for each epoch's training\n",
        "  \n",
        "  \"\"\"\n",
        "\n",
        "  def on_train_begin(self, logs={}):\n",
        "    self.times = []\n",
        "\n",
        "  def on_epoch_begin(self, batch, logs={}):\n",
        "    self.epoch_time_start = time.time()\n",
        "\n",
        "  def on_epoch_end(self, batch, logs={}):\n",
        "    self.times.append(time.time() - self.epoch_time_start)"
      ],
      "execution_count": 0,
      "outputs": []
    },
    {
      "cell_type": "markdown",
      "metadata": {
        "id": "ZKAqNEsxYrOG",
        "colab_type": "text"
      },
      "source": [
        "Three models will be implemented and their results compared:\n",
        "\n",
        "1.   ResNet\n",
        "2.   DenseNet\n",
        "3.   EfficientNet\n"
      ]
    },
    {
      "cell_type": "markdown",
      "metadata": {
        "id": "OFfTc1YGZcQ0",
        "colab_type": "text"
      },
      "source": [
        "### ResNet"
      ]
    },
    {
      "cell_type": "markdown",
      "metadata": {
        "id": "SWDCLe1SHZJX",
        "colab_type": "text"
      },
      "source": [
        "A pre-built ResNet model from the Keras library is used. Documentation on the model can be found [here](https://keras.io/applications/). Pre-trained weights from the ImageNet dataset are used."
      ]
    },
    {
      "cell_type": "code",
      "metadata": {
        "id": "9LPD3yFmZe5b",
        "colab_type": "code",
        "colab": {}
      },
      "source": [
        "resnet_base = ResNet50(\n",
        "    include_top=False,\n",
        "    weights='imagenet',\n",
        "    input_shape=(224, 224, 3),\n",
        "    pooling='avg'\n",
        ")\n",
        "output = Dense(15, activation='sigmoid')(resnet_base.output)\n",
        "\n",
        "resnet = Model(input=resnet_base.input, outputs=output)"
      ],
      "execution_count": 0,
      "outputs": []
    },
    {
      "cell_type": "code",
      "metadata": {
        "id": "MdbR0w7uZe2Q",
        "colab_type": "code",
        "colab": {}
      },
      "source": [
        "resnet.summary()"
      ],
      "execution_count": 0,
      "outputs": []
    },
    {
      "cell_type": "code",
      "metadata": {
        "id": "Tu7z-WLDYpLk",
        "colab_type": "code",
        "colab": {}
      },
      "source": [
        "resnet.compile(\n",
        "    loss='binary_crossentropy',\n",
        "    optimizer='adam',\n",
        "    metrics=['binary_accuracy']\n",
        ")"
      ],
      "execution_count": 0,
      "outputs": []
    },
    {
      "cell_type": "code",
      "metadata": {
        "id": "zQV5iG0bLK_R",
        "colab_type": "code",
        "colab": {}
      },
      "source": [
        "resnet_time = TimeHistory()\n",
        "resnet_stopping = EarlyStopping(patience=5, restore_best_weights=True)\n",
        "resnet_checkpoint = ModelCheckpoint(filepath=CHECKPOINT_DIR + 'resnet-{epoch:02d}.hdf5', period=5)\n",
        "\n",
        "resnet_history = resnet.fit_generator(\n",
        "    generator=train_generator,\n",
        "    epochs=EPOCHS,\n",
        "    shuffle=True,\n",
        "    validation_data=valid_generator,\n",
        "    callbacks=[resnet_time, resnet_stopping, resnet_checkpoint]\n",
        ")"
      ],
      "execution_count": 0,
      "outputs": []
    },
    {
      "cell_type": "markdown",
      "metadata": {
        "id": "rQ3XpWrbZfWj",
        "colab_type": "text"
      },
      "source": [
        "### DenseNet"
      ]
    },
    {
      "cell_type": "code",
      "metadata": {
        "id": "noRNNHpPZg8j",
        "colab_type": "code",
        "colab": {}
      },
      "source": [
        "densenet_base = DenseNet121(\n",
        "    include_top=False,\n",
        "    weights='imagenet',\n",
        "    input_shape=(224, 224, 3),\n",
        "    pooling='avg'\n",
        ")\n",
        "output = Dense(15, activation='sigmoid')(densenet_base.output)\n",
        "\n",
        "densenet = Model(input=densenet_base.input, outputs=output)"
      ],
      "execution_count": 0,
      "outputs": []
    },
    {
      "cell_type": "code",
      "metadata": {
        "id": "pAvZMO7-Zhou",
        "colab_type": "code",
        "colab": {}
      },
      "source": [
        "densenet.summary()"
      ],
      "execution_count": 0,
      "outputs": []
    },
    {
      "cell_type": "code",
      "metadata": {
        "id": "GAXxvMrjZhd5",
        "colab_type": "code",
        "colab": {}
      },
      "source": [
        "densenet.compile(\n",
        "    loss='binary_crossentropy',\n",
        "    optimizer='adam',\n",
        "    metrics=['binary_accuracy', AUC()]\n",
        ")"
      ],
      "execution_count": 0,
      "outputs": []
    },
    {
      "cell_type": "code",
      "metadata": {
        "id": "W2sXQErjZhaq",
        "colab_type": "code",
        "colab": {}
      },
      "source": [
        "densenet_time = TimeHistory()\n",
        "densenet_stopping = EarlyStopping(patience=5, restore_best_weights=True)\n",
        "densenet_checkpoint = ModelCheckpoint(filepath=CHECKPOINT_DIR + 'resnet-{epoch:02d}.hdf5', period=5)\n",
        "\n",
        "densenet.fit_generator(\n",
        "    generator=train_generator,\n",
        "    epochs=EPOCHS,\n",
        "    shuffle=True,\n",
        "    validation_data=valid_generator,\n",
        "    callbacks=[densenet_time, densenet_stopping, densenet_checkpoint]\n",
        ")"
      ],
      "execution_count": 0,
      "outputs": []
    },
    {
      "cell_type": "markdown",
      "metadata": {
        "id": "l2RLd0vEZh47",
        "colab_type": "text"
      },
      "source": [
        "### EfficientNet"
      ]
    },
    {
      "cell_type": "markdown",
      "metadata": {
        "id": "F4nFaNUtkLpT",
        "colab_type": "text"
      },
      "source": [
        "EfficientNet is a lightweight CNN architecture that is designed to require significantly less compute than other state of the art architectures on common transfer learning datasets."
      ]
    },
    {
      "cell_type": "markdown",
      "metadata": {
        "id": "FQWk56_ykc2M",
        "colab_type": "text"
      },
      "source": [
        "Pre-built EfficientNet models built in Keras are used from the efficientnet library available on [GitHub](https://github.com/qubvel/efficientnet) and installable via PyPI."
      ]
    },
    {
      "cell_type": "code",
      "metadata": {
        "id": "gL_L3vMQZjN1",
        "colab_type": "code",
        "colab": {}
      },
      "source": [
        "efficientnet_base = efn.EfficientNetB4(\n",
        "    include_top=False,\n",
        "    weights='imagenet',\n",
        "    input_shape=(224, 224, 3),\n",
        "    pooling='avg'\n",
        ")\n",
        "output = Dense(15, activation='sigmoid')(efficientnet_base.output)\n",
        "\n",
        "efficientnet = Model(input=efficientnet_base.input, outputs=output)"
      ],
      "execution_count": 0,
      "outputs": []
    },
    {
      "cell_type": "code",
      "metadata": {
        "id": "imAWuTvkkxzE",
        "colab_type": "code",
        "colab": {}
      },
      "source": [
        "efficientnet.summary()"
      ],
      "execution_count": 0,
      "outputs": []
    },
    {
      "cell_type": "code",
      "metadata": {
        "id": "79YhNMSUZjx8",
        "colab_type": "code",
        "colab": {}
      },
      "source": [
        "efficientnet.compile(\n",
        "    loss='binary_crossentropy',\n",
        "    optimizer='adam',\n",
        "    metrics=['binary_accuracy', AUC()]\n",
        ")"
      ],
      "execution_count": 0,
      "outputs": []
    },
    {
      "cell_type": "code",
      "metadata": {
        "id": "S7n61E0hZjv_",
        "colab_type": "code",
        "colab": {}
      },
      "source": [
        "efficientnet_time = TimeHistory()\n",
        "efficientnet_stopping = EarlyStopping(patience=5, restore_best_weights=True)\n",
        "efficientnet_checkpoint = ModelCheckpoint(filepath=CHECKPOINT_DIR + 'resnet-{epoch:02d}.hdf5', period=5)\n",
        "\n",
        "efficientnet_history = efficientnet.fit_generator(\n",
        "    generator=train_generator,\n",
        "    epochs=EPOCHS,\n",
        "    shuffle=True,\n",
        "    validation_data=valid_generator,\n",
        "    callbacks=[efficientnet_time, efficientnet_stopping, efficientnet_checkpoint]\n",
        ")"
      ],
      "execution_count": 0,
      "outputs": []
    },
    {
      "cell_type": "code",
      "metadata": {
        "id": "EHcJh4ZgZjs8",
        "colab_type": "code",
        "colab": {}
      },
      "source": [
        ""
      ],
      "execution_count": 0,
      "outputs": []
    },
    {
      "cell_type": "code",
      "metadata": {
        "id": "6XIKPcmeln3b",
        "colab_type": "code",
        "colab": {}
      },
      "source": [
        ""
      ],
      "execution_count": 0,
      "outputs": []
    },
    {
      "cell_type": "markdown",
      "metadata": {
        "id": "OrqooImQpx0j",
        "colab_type": "text"
      },
      "source": [
        "## Results"
      ]
    },
    {
      "cell_type": "code",
      "metadata": {
        "id": "0fnOHElDpyxZ",
        "colab_type": "code",
        "colab": {}
      },
      "source": [
        ""
      ],
      "execution_count": 0,
      "outputs": []
    },
    {
      "cell_type": "markdown",
      "metadata": {
        "id": "5YBwkiyxpzW0",
        "colab_type": "text"
      },
      "source": [
        "## Conclusions"
      ]
    },
    {
      "cell_type": "code",
      "metadata": {
        "id": "5-8Vguqep0hY",
        "colab_type": "code",
        "colab": {}
      },
      "source": [
        ""
      ],
      "execution_count": 0,
      "outputs": []
    }
  ]
}