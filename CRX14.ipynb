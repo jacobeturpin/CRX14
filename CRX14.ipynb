{
  "nbformat": 4,
  "nbformat_minor": 0,
  "metadata": {
    "colab": {
      "name": "CRX14.ipynb",
      "provenance": [],
      "collapsed_sections": [],
      "authorship_tag": "ABX9TyNVhwbjnETAaHKpLr6VXr5f",
      "include_colab_link": true
    },
    "kernelspec": {
      "name": "python3",
      "display_name": "Python 3"
    }
  },
  "cells": [
    {
      "cell_type": "markdown",
      "metadata": {
        "id": "view-in-github",
        "colab_type": "text"
      },
      "source": [
        "<a href=\"https://colab.research.google.com/github/jacobeturpin/CRX14/blob/master/CRX14.ipynb\" target=\"_parent\"><img src=\"https://colab.research.google.com/assets/colab-badge.svg\" alt=\"Open In Colab\"/></a>"
      ]
    },
    {
      "cell_type": "markdown",
      "metadata": {
        "id": "7bB3DldvpObM",
        "colab_type": "text"
      },
      "source": [
        "# Predicting Thorax Diseases Using the ChestX-Ray14 Dataset and Convolutional Techniques"
      ]
    },
    {
      "cell_type": "markdown",
      "metadata": {
        "id": "iT90eb80pkGv",
        "colab_type": "text"
      },
      "source": [
        "Dataset provided by the National Institute of Health at: https://nihcc.app.box.com/v/ChestXray-NIHCC"
      ]
    },
    {
      "cell_type": "code",
      "metadata": {
        "id": "qmYtGTLV0JX_",
        "colab_type": "code",
        "colab": {}
      },
      "source": [
        "import gzip\n",
        "import os\n",
        "from urllib.request import urlretrieve\n",
        "\n",
        "import pandas as pd"
      ],
      "execution_count": 0,
      "outputs": []
    },
    {
      "cell_type": "markdown",
      "metadata": {
        "id": "0h1PivYspzie",
        "colab_type": "text"
      },
      "source": [
        "## Data Loading"
      ]
    },
    {
      "cell_type": "code",
      "metadata": {
        "id": "xgBDI5H1pyfX",
        "colab_type": "code",
        "colab": {}
      },
      "source": [
        "def batch_download(first_n=None):\n",
        "\n",
        "  # URLs for the zip files\n",
        "  links = [\n",
        "    'https://nihcc.box.com/shared/static/vfk49d74nhbxq3nqjg0900w5nvkorp5c.gz',\n",
        "    'https://nihcc.box.com/shared/static/i28rlmbvmfjbl8p2n3ril0pptcmcu9d1.gz',\n",
        "    'https://nihcc.box.com/shared/static/f1t00wrtdk94satdfb9olcolqx20z2jp.gz',\n",
        "    'https://nihcc.box.com/shared/static/0aowwzs5lhjrceb3qp67ahp0rd1l1etg.gz',\n",
        "    'https://nihcc.box.com/shared/static/v5e3goj22zr6h8tzualxfsqlqaygfbsn.gz',\n",
        "    'https://nihcc.box.com/shared/static/asi7ikud9jwnkrnkj99jnpfkjdes7l6l.gz',\n",
        "    'https://nihcc.box.com/shared/static/jn1b4mw4n6lnh74ovmcjb8y48h8xj07n.gz',\n",
        "    'https://nihcc.box.com/shared/static/tvpxmn7qyrgl0w8wfh9kqfjskv6nmm1j.gz',\n",
        "    'https://nihcc.box.com/shared/static/upyy3ml7qdumlgk2rfcvlb9k6gvqq2pj.gz',\n",
        "    'https://nihcc.box.com/shared/static/l6nilvfa9cg3s28tqv1qc1olm3gnz54p.gz',\n",
        "    'https://nihcc.box.com/shared/static/hhq8fkdgvcari67vfhs7ppg2w6ni4jze.gz',\n",
        "    'https://nihcc.box.com/shared/static/ioqwiy20ihqwyr8pf4c24eazhh281pbu.gz'\n",
        "  ]\n",
        "\n",
        "  first_n = first_n or len(links)\n",
        "\n",
        "  if first_n > len(links):\n",
        "    raise('Number of files requested exceeds amount available')\n",
        "\n",
        "  for idx, link in enumerate(links[:first_n]):\n",
        "      fn = 'images_%02d.tar.gz' % (idx+1)\n",
        "      print('downloading', fn, '...')\n",
        "      urlretrieve(link, fn)  # download the zip file\n",
        "  \n",
        "  print(\"Download complete. Please check the checksums\")"
      ],
      "execution_count": 0,
      "outputs": []
    },
    {
      "cell_type": "code",
      "metadata": {
        "id": "OyHN8qUKqfWy",
        "colab_type": "code",
        "colab": {
          "base_uri": "https://localhost:8080/",
          "height": 51
        },
        "outputId": "1cb36bb4-07ba-48e1-aeb0-8d4256e95035"
      },
      "source": [
        "batch_download(1)"
      ],
      "execution_count": 10,
      "outputs": [
        {
          "output_type": "stream",
          "text": [
            "downloading images_01.tar.gz ...\n",
            "Download complete. Please check the checksums\n"
          ],
          "name": "stdout"
        }
      ]
    },
    {
      "cell_type": "code",
      "metadata": {
        "id": "mAsSprMerFeQ",
        "colab_type": "code",
        "colab": {}
      },
      "source": [
        "def extract_gzip(filename):\n",
        "  f = gzip.open(filename, 'rb')\n",
        "  file_content = f.read()\n",
        "  # TODO: implement save decompressed\n",
        "  f.close()"
      ],
      "execution_count": 0,
      "outputs": []
    }
  ]
}