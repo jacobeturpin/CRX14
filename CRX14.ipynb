{
  "nbformat": 4,
  "nbformat_minor": 0,
  "metadata": {
    "colab": {
      "name": "CRX14.ipynb",
      "provenance": [],
      "collapsed_sections": [],
      "include_colab_link": true
    },
    "kernelspec": {
      "name": "python3",
      "display_name": "Python 3"
    },
    "accelerator": "TPU"
  },
  "cells": [
    {
      "cell_type": "markdown",
      "metadata": {
        "id": "view-in-github",
        "colab_type": "text"
      },
      "source": [
        "<a href=\"https://colab.research.google.com/github/jacobeturpin/CXR14/blob/master/CRX14.ipynb\" target=\"_parent\"><img src=\"https://colab.research.google.com/assets/colab-badge.svg\" alt=\"Open In Colab\"/></a>"
      ]
    },
    {
      "cell_type": "markdown",
      "metadata": {
        "id": "7bB3DldvpObM",
        "colab_type": "text"
      },
      "source": [
        "# Predicting Thorax Diseases Using the ChestX-Ray14 Dataset and Convolutional Techniques"
      ]
    },
    {
      "cell_type": "markdown",
      "metadata": {
        "id": "FXhSxMq-psXO",
        "colab_type": "text"
      },
      "source": [
        "## Introduction"
      ]
    },
    {
      "cell_type": "markdown",
      "metadata": {
        "id": "iT90eb80pkGv",
        "colab_type": "text"
      },
      "source": [
        "Dataset provided by the National Institute of Health at: https://nihcc.app.box.com/v/ChestXray-NIHCC\n",
        "\n",
        "*Random subset provided [here](https://www.kaggle.com/nih-chest-xrays/sample)*"
      ]
    },
    {
      "cell_type": "markdown",
      "metadata": {
        "id": "Ew4p6DVkpp-x",
        "colab_type": "text"
      },
      "source": [
        "## Setup"
      ]
    },
    {
      "cell_type": "code",
      "metadata": {
        "id": "Dd2cKO1gGmO_",
        "colab_type": "code",
        "outputId": "76d07923-45dc-4eeb-cc32-f300c2db1a48",
        "colab": {
          "base_uri": "https://localhost:8080/",
          "height": 34
        }
      },
      "source": [
        "%tensorflow_version 2.x\n",
        "!pip install keras --upgrade --quiet\n",
        "!pip install efficientnet --quiet"
      ],
      "execution_count": 1,
      "outputs": [
        {
          "output_type": "stream",
          "text": [
            "TensorFlow 2.x selected.\n"
          ],
          "name": "stdout"
        }
      ]
    },
    {
      "cell_type": "code",
      "metadata": {
        "id": "qmYtGTLV0JX_",
        "colab_type": "code",
        "outputId": "0e315331-f34a-4911-f9d9-605f93657ccb",
        "colab": {
          "base_uri": "https://localhost:8080/",
          "height": 34
        }
      },
      "source": [
        "import glob\n",
        "import gzip\n",
        "import os\n",
        "import tarfile\n",
        "import time\n",
        "import warnings\n",
        "from urllib.request import urlretrieve\n",
        "\n",
        "import pandas as pd\n",
        "\n",
        "import keras\n",
        "from keras.applications import DenseNet121, ResNet50\n",
        "from keras.callbacks import EarlyStopping, ModelCheckpoint\n",
        "from keras.layers import Dense, Flatten\n",
        "from keras.metrics import AUC\n",
        "from keras.models import Model\n",
        "from keras.preprocessing.image import ImageDataGenerator\n",
        "\n",
        "from sklearn.metrics import roc_auc_score\n",
        "from sklearn.model_selection import train_test_split\n",
        "from sklearn.preprocessing import MultiLabelBinarizer\n",
        "\n",
        "import efficientnet.keras as efn"
      ],
      "execution_count": 2,
      "outputs": [
        {
          "output_type": "stream",
          "text": [
            "Using TensorFlow backend.\n"
          ],
          "name": "stderr"
        }
      ]
    },
    {
      "cell_type": "code",
      "metadata": {
        "id": "fRVEiwwDTiU6",
        "colab_type": "code",
        "colab": {}
      },
      "source": [
        "# Change to False to force local file system usage\n",
        "USE_DRIVE = False\n",
        "\n",
        "if USE_DRIVE:\n",
        "\n",
        "  try:\n",
        "    from google.colab import drive\n",
        "    USE_DRIVE = True\n",
        "    ROOT_DIR = './drive/My Drive'\n",
        "  except:\n",
        "    warnings.warn('Google Drive Not Found -- Using local file system')\n",
        "    USE_DRIVE = False\n",
        "    ROOT_DIR = '.'\n",
        "else:\n",
        "  ROOT_DIR = '.'"
      ],
      "execution_count": 0,
      "outputs": []
    },
    {
      "cell_type": "code",
      "metadata": {
        "id": "642FMtzhgOml",
        "colab_type": "code",
        "colab": {}
      },
      "source": [
        "DATA_PATH = '/CXR14'\n",
        "CHECKPOINT_PATH = '/models'\n",
        "\n",
        "SAMPLE_RATE = 0.15\n",
        "EPOCHS = 2\n",
        "BATCH_SIZE = 128\n",
        "CHECKPOINT_RATE = 2\n",
        "\n",
        "CLASSES = [\n",
        "  'Hernia',\n",
        "  'Pneumonia',\n",
        "  'Fibrosis',\n",
        "  'Edema',\n",
        "  'Emphysema',\n",
        "  'Cardiomegaly',\n",
        "  'Pleural_Thickening',\n",
        "  'Consolidation',\n",
        "  'Pneumothorax',\n",
        "  'Mass',\n",
        "  'Nodule',\n",
        "  'Atelectasis',\n",
        "  'Effusion',\n",
        "  'Infiltration',\n",
        "  'No Finding'\n",
        "]"
      ],
      "execution_count": 0,
      "outputs": []
    },
    {
      "cell_type": "markdown",
      "metadata": {
        "id": "0h1PivYspzie",
        "colab_type": "text"
      },
      "source": [
        "## Data Loading"
      ]
    },
    {
      "cell_type": "code",
      "metadata": {
        "id": "Jw1ZMmyOZfHq",
        "colab_type": "code",
        "colab": {}
      },
      "source": [
        "# Determines whether to use random sample (approx. 3K files) or full >120K files dataset\n",
        "USE_SAMPLE = False"
      ],
      "execution_count": 0,
      "outputs": []
    },
    {
      "cell_type": "code",
      "metadata": {
        "id": "Q6dsx4kDVA-3",
        "colab_type": "code",
        "colab": {}
      },
      "source": [
        "if USE_DRIVE:\n",
        "  drive.mount('/content/drive')"
      ],
      "execution_count": 0,
      "outputs": []
    },
    {
      "cell_type": "code",
      "metadata": {
        "id": "xgBDI5H1pyfX",
        "colab_type": "code",
        "colab": {}
      },
      "source": [
        "def batch_download_and_extract(path='.', first_n=None):\n",
        "\n",
        "  # URLs for zip files containing ChestX-ray14 dataset from NIH\n",
        "  links = [\n",
        "    'https://nihcc.box.com/shared/static/vfk49d74nhbxq3nqjg0900w5nvkorp5c.gz',\n",
        "    'https://nihcc.box.com/shared/static/i28rlmbvmfjbl8p2n3ril0pptcmcu9d1.gz',\n",
        "    'https://nihcc.box.com/shared/static/f1t00wrtdk94satdfb9olcolqx20z2jp.gz',\n",
        "    'https://nihcc.box.com/shared/static/0aowwzs5lhjrceb3qp67ahp0rd1l1etg.gz',\n",
        "    'https://nihcc.box.com/shared/static/v5e3goj22zr6h8tzualxfsqlqaygfbsn.gz',\n",
        "    'https://nihcc.box.com/shared/static/asi7ikud9jwnkrnkj99jnpfkjdes7l6l.gz',\n",
        "    'https://nihcc.box.com/shared/static/jn1b4mw4n6lnh74ovmcjb8y48h8xj07n.gz',\n",
        "    'https://nihcc.box.com/shared/static/tvpxmn7qyrgl0w8wfh9kqfjskv6nmm1j.gz',\n",
        "    'https://nihcc.box.com/shared/static/upyy3ml7qdumlgk2rfcvlb9k6gvqq2pj.gz',\n",
        "    'https://nihcc.box.com/shared/static/l6nilvfa9cg3s28tqv1qc1olm3gnz54p.gz',\n",
        "    'https://nihcc.box.com/shared/static/hhq8fkdgvcari67vfhs7ppg2w6ni4jze.gz',\n",
        "    'https://nihcc.box.com/shared/static/ioqwiy20ihqwyr8pf4c24eazhh281pbu.gz'\n",
        "  ]\n",
        "\n",
        "  first_n = first_n or len(links)\n",
        "\n",
        "  if first_n > len(links):\n",
        "    raise('Number of files requested exceeds amount available')\n",
        "\n",
        "  for idx, link in enumerate(links[:first_n]):\n",
        "      fn = 'images_{:03d}.tar.gz'.format(idx+1)\n",
        "      print('downloading', fn, '...')\n",
        "      urlretrieve(link, fn)  # download the zip file\n",
        "\n",
        "      tar = tarfile.open(fn, \"r:gz\")\n",
        "      tar.extractall(path + '/images_{:03d}'.format(idx+1))\n",
        "      tar.close()\n",
        "\n",
        "      os.remove(fn)  # Remove remaining .tar file\n",
        "\n",
        "  labels_url = 'https://nihcc.app.box.com/index.php?rm=box_download_shared_file&vanity_name=ChestXray-NIHCC&file_id=f_219760887468'\n",
        "  urlretrieve(labels_url, path + '/Data_Entry_2017.csv')\n",
        "  \n",
        "  print(\"Download complete. Please check the checksums\")"
      ],
      "execution_count": 0,
      "outputs": []
    },
    {
      "cell_type": "code",
      "metadata": {
        "id": "OyHN8qUKqfWy",
        "colab_type": "code",
        "outputId": "6f439b29-921e-4189-e13b-2dc449edf06f",
        "colab": {
          "base_uri": "https://localhost:8080/",
          "height": 68
        }
      },
      "source": [
        "full_dir = \"{0}{1}/full\".format(ROOT_DIR, DATA_PATH)\n",
        "\n",
        "if not os.path.isdir(full_dir):\n",
        "  print('Data not present -- downloading now ...')\n",
        "  os.makedirs(full_dir)\n",
        "  batch_download_and_extract(full_dir)\n",
        "else:\n",
        "  print('Data directory already exists')"
      ],
      "execution_count": 0,
      "outputs": [
        {
          "output_type": "stream",
          "text": [
            "Data not present -- downloading now ...\n",
            "downloading images_001.tar.gz ...\n",
            "downloading images_002.tar.gz ...\n"
          ],
          "name": "stdout"
        }
      ]
    },
    {
      "cell_type": "code",
      "metadata": {
        "id": "ra2D0Slajeh7",
        "colab_type": "code",
        "colab": {}
      },
      "source": [
        "df = pd.read_csv(\"{}/Data_Entry_2017.csv\".format(full_dir))\n",
        "df.head()"
      ],
      "execution_count": 0,
      "outputs": []
    },
    {
      "cell_type": "code",
      "metadata": {
        "id": "jiGD_c2ej3T-",
        "colab_type": "code",
        "colab": {}
      },
      "source": [
        "df['Finding Labels'] = df['Finding Labels'].apply(lambda s: s.split('|'))\n",
        "df.head()"
      ],
      "execution_count": 0,
      "outputs": []
    },
    {
      "cell_type": "code",
      "metadata": {
        "id": "3vAfJ2L8j6ll",
        "colab_type": "code",
        "colab": {}
      },
      "source": [
        "# https://stackoverflow.com/questions/45312377/how-to-one-hot-encode-from-a-pandas-column-containing-a-list\n",
        "\n",
        "mlb = MultiLabelBinarizer()\n",
        "df = df.join(pd.DataFrame(mlb.fit_transform(df.pop('Finding Labels')),\n",
        "                          columns=mlb.classes_,\n",
        "                          index=df.index))\n",
        "df.head()"
      ],
      "execution_count": 0,
      "outputs": []
    },
    {
      "cell_type": "code",
      "metadata": {
        "id": "zSr6ane6kEhg",
        "colab_type": "code",
        "colab": {}
      },
      "source": [
        "df = df[['Image Index'] + CLASSES]\n",
        "df.head()"
      ],
      "execution_count": 0,
      "outputs": []
    },
    {
      "cell_type": "code",
      "metadata": {
        "id": "L0vkQpVCm25U",
        "colab_type": "code",
        "colab": {}
      },
      "source": [
        "full_dir"
      ],
      "execution_count": 0,
      "outputs": []
    },
    {
      "cell_type": "code",
      "metadata": {
        "id": "Xq9orJZilLd7",
        "colab_type": "code",
        "colab": {}
      },
      "source": [
        "img_paths =  glob.glob(full_dir + '/**/*.png', recursive=True)\n",
        "img_paths[:5]"
      ],
      "execution_count": 0,
      "outputs": []
    },
    {
      "cell_type": "code",
      "metadata": {
        "id": "0ccLSx8cnD7G",
        "colab_type": "code",
        "colab": {}
      },
      "source": [
        "df['Image Index'] = df['Image Index'].apply(lambda x: next(p for p in img_paths if x in p))\n",
        "df.head()"
      ],
      "execution_count": 0,
      "outputs": []
    },
    {
      "cell_type": "code",
      "metadata": {
        "id": "R7Xq9m323wDx",
        "colab_type": "code",
        "colab": {}
      },
      "source": [
        "df = df.sample(frac=SAMPLE_RATE)"
      ],
      "execution_count": 0,
      "outputs": []
    },
    {
      "cell_type": "markdown",
      "metadata": {
        "id": "XQNDU1UQfo7Z",
        "colab_type": "text"
      },
      "source": [
        "## Data Preparation"
      ]
    },
    {
      "cell_type": "markdown",
      "metadata": {
        "id": "_QcCBayTioFm",
        "colab_type": "text"
      },
      "source": [
        "The ChestX-ray14 dataset is too large to fit entirely in memory when training; therefore, it's incrementally loaded via generator to reduce memory overhead. This is achieved using the Keras [Image Proprocessing](https://keras.io/preprocessing/image/) submodule."
      ]
    },
    {
      "cell_type": "code",
      "metadata": {
        "id": "O_Z594-jgZR4",
        "colab_type": "code",
        "colab": {}
      },
      "source": [
        "# https://datascience.stackexchange.com/a/17445/91316\n",
        "\n",
        "train_df, test_df = train_test_split(df, test_size=0.2)\n",
        "\n",
        "print('Training/Validation Samples:  {}'.format(len(train_df)))\n",
        "print('Test Samples:  {}'.format(len(test_df)))"
      ],
      "execution_count": 0,
      "outputs": []
    },
    {
      "cell_type": "code",
      "metadata": {
        "id": "xoNzB7hxfrF8",
        "colab_type": "code",
        "colab": {}
      },
      "source": [
        "train_datagen = ImageDataGenerator(\n",
        "    rescale=1./255,\n",
        "    validation_split=0.25\n",
        ")\n",
        "test_datagen = ImageDataGenerator(rescale=1./255)"
      ],
      "execution_count": 0,
      "outputs": []
    },
    {
      "cell_type": "code",
      "metadata": {
        "id": "PvVnvolUfrDQ",
        "colab_type": "code",
        "colab": {}
      },
      "source": [
        "train_generator = train_datagen.flow_from_dataframe(\n",
        "    dataframe=train_df,\n",
        "    directory=None,\n",
        "    x_col='Image Index',\n",
        "    y_col=CLASSES,\n",
        "    subset='training',\n",
        "    batch_size=BATCH_SIZE,\n",
        "    shuffle=True,\n",
        "    class_mode='raw',\n",
        "    #classes=CLASSES,\n",
        "    target_size=(224, 224)\n",
        ")"
      ],
      "execution_count": 0,
      "outputs": []
    },
    {
      "cell_type": "code",
      "metadata": {
        "id": "kuwjWrMkfq__",
        "colab_type": "code",
        "colab": {}
      },
      "source": [
        "valid_generator = train_datagen.flow_from_dataframe(\n",
        "    dataframe=train_df,\n",
        "    directory=None,\n",
        "    x_col='Image Index',\n",
        "    y_col=CLASSES,\n",
        "    subset='validation',\n",
        "    batch_size=BATCH_SIZE,\n",
        "    shuffle=True,\n",
        "    class_mode='raw',\n",
        "    #classes=[],\n",
        "    target_size=(224, 224)\n",
        ")"
      ],
      "execution_count": 0,
      "outputs": []
    },
    {
      "cell_type": "code",
      "metadata": {
        "id": "pS5sk9pkfq7I",
        "colab_type": "code",
        "colab": {}
      },
      "source": [
        "test_generator = test_datagen.flow_from_dataframe(\n",
        "    dataframe=test_df,\n",
        "    directory=None,\n",
        "    x_col='Image Index',\n",
        "    y_col=CLASSES,\n",
        "    batch_size=BATCH_SIZE,\n",
        "    shuffle=False,\n",
        "    class_mode='raw',\n",
        "    #classes=[],\n",
        "    target_size=(224, 224)\n",
        ")"
      ],
      "execution_count": 0,
      "outputs": []
    },
    {
      "cell_type": "markdown",
      "metadata": {
        "id": "69tzlzeaYn4I",
        "colab_type": "text"
      },
      "source": [
        "## Modeling"
      ]
    },
    {
      "cell_type": "code",
      "metadata": {
        "id": "zWVdmQTTrdlM",
        "colab_type": "code",
        "colab": {}
      },
      "source": [
        "full_dir + CHECKPOINT_PATH"
      ],
      "execution_count": 0,
      "outputs": []
    },
    {
      "cell_type": "code",
      "metadata": {
        "id": "JMb6TzfXbxlQ",
        "colab_type": "code",
        "colab": {}
      },
      "source": [
        "if not os.path.exists(full_dir + CHECKPOINT_PATH):\n",
        "  os.makedirs(full_dir + CHECKPOINT_PATH)"
      ],
      "execution_count": 0,
      "outputs": []
    },
    {
      "cell_type": "code",
      "metadata": {
        "id": "cjKQR6Ani1ox",
        "colab_type": "code",
        "colab": {}
      },
      "source": [
        "class TimeHistory(keras.callbacks.Callback):\n",
        "  \"\"\"Object used on keras callbacks to measure epoch training time\n",
        "  \n",
        "  Args:\n",
        "    None\n",
        "\n",
        "  Params:\n",
        "    time (list): collection of times in seconds for each epoch's training\n",
        "  \n",
        "  \"\"\"\n",
        "\n",
        "  def on_train_begin(self, logs={}):\n",
        "    self.times = []\n",
        "\n",
        "  def on_epoch_begin(self, batch, logs={}):\n",
        "    self.epoch_time_start = time.time()\n",
        "\n",
        "  def on_epoch_end(self, batch, logs={}):\n",
        "    self.times.append(time.time() - self.epoch_time_start)"
      ],
      "execution_count": 0,
      "outputs": []
    },
    {
      "cell_type": "markdown",
      "metadata": {
        "id": "ZKAqNEsxYrOG",
        "colab_type": "text"
      },
      "source": [
        "Three models will be implemented and their results compared:\n",
        "\n",
        "1.   ResNet\n",
        "2.   DenseNet\n",
        "3.   EfficientNet\n"
      ]
    },
    {
      "cell_type": "markdown",
      "metadata": {
        "id": "OFfTc1YGZcQ0",
        "colab_type": "text"
      },
      "source": [
        "### ResNet"
      ]
    },
    {
      "cell_type": "markdown",
      "metadata": {
        "id": "SWDCLe1SHZJX",
        "colab_type": "text"
      },
      "source": [
        "A pre-built ResNet model from the Keras library is used. Documentation on the model can be found [here](https://keras.io/applications/). Pre-trained weights from the ImageNet dataset are used."
      ]
    },
    {
      "cell_type": "code",
      "metadata": {
        "id": "9LPD3yFmZe5b",
        "colab_type": "code",
        "colab": {}
      },
      "source": [
        "resnet_base = ResNet50(\n",
        "    include_top=False,\n",
        "    weights='imagenet',\n",
        "    input_shape=(224, 224, 3),\n",
        "    pooling='avg'\n",
        ")\n",
        "output = Dense(15, activation='sigmoid')(resnet_base.output)\n",
        "\n",
        "resnet = Model(input=resnet_base.input, outputs=output)"
      ],
      "execution_count": 0,
      "outputs": []
    },
    {
      "cell_type": "code",
      "metadata": {
        "id": "MdbR0w7uZe2Q",
        "colab_type": "code",
        "colab": {}
      },
      "source": [
        "resnet.summary()"
      ],
      "execution_count": 0,
      "outputs": []
    },
    {
      "cell_type": "code",
      "metadata": {
        "id": "Tu7z-WLDYpLk",
        "colab_type": "code",
        "colab": {}
      },
      "source": [
        "resnet.compile(\n",
        "    loss='binary_crossentropy',\n",
        "    optimizer='adam',\n",
        "    metrics=['binary_accuracy', AUC()]\n",
        ")"
      ],
      "execution_count": 0,
      "outputs": []
    },
    {
      "cell_type": "code",
      "metadata": {
        "id": "zQV5iG0bLK_R",
        "colab_type": "code",
        "colab": {}
      },
      "source": [
        "resnet_time = TimeHistory()\n",
        "resnet_stopping = EarlyStopping(patience=5, restore_best_weights=True)\n",
        "resnet_checkpoint = ModelCheckpoint(filepath=full_dir + CHECKPOINT_PATH + 'resnet-{epoch:03d}.hdf5', \n",
        "                                    period=CHECKPOINT_RATE)\n",
        "\n",
        "resnet_history = resnet.fit_generator(\n",
        "    generator=train_generator,\n",
        "    epochs=EPOCHS,\n",
        "    shuffle=True,\n",
        "    validation_data=valid_generator,\n",
        "    callbacks=[resnet_time, resnet_stopping, resnet_checkpoint]\n",
        ")"
      ],
      "execution_count": 0,
      "outputs": []
    },
    {
      "cell_type": "markdown",
      "metadata": {
        "id": "rQ3XpWrbZfWj",
        "colab_type": "text"
      },
      "source": [
        "### DenseNet"
      ]
    },
    {
      "cell_type": "code",
      "metadata": {
        "id": "noRNNHpPZg8j",
        "colab_type": "code",
        "colab": {}
      },
      "source": [
        "densenet_base = DenseNet121(\n",
        "    include_top=False,\n",
        "    weights='imagenet',\n",
        "    input_shape=(224, 224, 3),\n",
        "    pooling='avg'\n",
        ")\n",
        "output = Dense(15, activation='sigmoid')(densenet_base.output)\n",
        "\n",
        "densenet = Model(input=densenet_base.input, outputs=output)"
      ],
      "execution_count": 0,
      "outputs": []
    },
    {
      "cell_type": "code",
      "metadata": {
        "id": "pAvZMO7-Zhou",
        "colab_type": "code",
        "colab": {}
      },
      "source": [
        "densenet.summary()"
      ],
      "execution_count": 0,
      "outputs": []
    },
    {
      "cell_type": "code",
      "metadata": {
        "id": "GAXxvMrjZhd5",
        "colab_type": "code",
        "colab": {}
      },
      "source": [
        "densenet.compile(\n",
        "    loss='binary_crossentropy',\n",
        "    optimizer='adam',\n",
        "    metrics=['binary_accuracy', AUC()]\n",
        ")"
      ],
      "execution_count": 0,
      "outputs": []
    },
    {
      "cell_type": "code",
      "metadata": {
        "id": "W2sXQErjZhaq",
        "colab_type": "code",
        "colab": {}
      },
      "source": [
        "densenet_time = TimeHistory()\n",
        "densenet_stopping = EarlyStopping(patience=5, restore_best_weights=True)\n",
        "densenet_checkpoint = ModelCheckpoint(filepath=full_dir + CHECKPOINT_PATH + 'densenet-{epoch:03d}.hdf5', \n",
        "                                      period=CHECKPOINT_RATE)\n",
        "\n",
        "densenet.fit_generator(\n",
        "    generator=train_generator,\n",
        "    epochs=EPOCHS,\n",
        "    shuffle=True,\n",
        "    validation_data=valid_generator,\n",
        "    callbacks=[densenet_time, densenet_stopping, densenet_checkpoint]\n",
        ")"
      ],
      "execution_count": 0,
      "outputs": []
    },
    {
      "cell_type": "markdown",
      "metadata": {
        "id": "l2RLd0vEZh47",
        "colab_type": "text"
      },
      "source": [
        "### EfficientNet"
      ]
    },
    {
      "cell_type": "markdown",
      "metadata": {
        "id": "F4nFaNUtkLpT",
        "colab_type": "text"
      },
      "source": [
        "EfficientNet is a lightweight CNN architecture that is designed to require significantly less compute than other state of the art architectures on common transfer learning datasets."
      ]
    },
    {
      "cell_type": "markdown",
      "metadata": {
        "id": "FQWk56_ykc2M",
        "colab_type": "text"
      },
      "source": [
        "Pre-built EfficientNet models built in Keras are used from the efficientnet library available on [GitHub](https://github.com/qubvel/efficientnet) and installable via PyPI."
      ]
    },
    {
      "cell_type": "code",
      "metadata": {
        "id": "gL_L3vMQZjN1",
        "colab_type": "code",
        "colab": {}
      },
      "source": [
        "efficientnet_base = efn.EfficientNetB4(\n",
        "    include_top=False,\n",
        "    weights='imagenet',\n",
        "    input_shape=(224, 224, 3),\n",
        "    pooling='avg'\n",
        ")\n",
        "output = Dense(15, activation='sigmoid')(efficientnet_base.output)\n",
        "\n",
        "efficientnet = Model(input=efficientnet_base.input, outputs=output)"
      ],
      "execution_count": 0,
      "outputs": []
    },
    {
      "cell_type": "code",
      "metadata": {
        "id": "imAWuTvkkxzE",
        "colab_type": "code",
        "colab": {}
      },
      "source": [
        "efficientnet.summary()"
      ],
      "execution_count": 0,
      "outputs": []
    },
    {
      "cell_type": "code",
      "metadata": {
        "id": "79YhNMSUZjx8",
        "colab_type": "code",
        "colab": {}
      },
      "source": [
        "efficientnet.compile(\n",
        "    loss='binary_crossentropy',\n",
        "    optimizer='adam',\n",
        "    metrics=['binary_accuracy', AUC()]\n",
        ")"
      ],
      "execution_count": 0,
      "outputs": []
    },
    {
      "cell_type": "code",
      "metadata": {
        "id": "S7n61E0hZjv_",
        "colab_type": "code",
        "colab": {}
      },
      "source": [
        "efficientnet_time = TimeHistory()\n",
        "efficientnet_stopping = EarlyStopping(patience=5, restore_best_weights=True)\n",
        "efficientnet_checkpoint = ModelCheckpoint(filepath=full_dir + CHECKPOINT_PATH + 'efficientnet-{epoch:03d}.hdf5', \n",
        "                                          period=CHECKPOINT_RATE)\n",
        "\n",
        "efficientnet_history = efficientnet.fit_generator(\n",
        "    generator=train_generator,\n",
        "    epochs=EPOCHS,\n",
        "    shuffle=True,\n",
        "    validation_data=valid_generator,\n",
        "    callbacks=[efficientnet_time, efficientnet_stopping, efficientnet_checkpoint]\n",
        ")"
      ],
      "execution_count": 0,
      "outputs": []
    },
    {
      "cell_type": "code",
      "metadata": {
        "id": "EHcJh4ZgZjs8",
        "colab_type": "code",
        "colab": {}
      },
      "source": [
        ""
      ],
      "execution_count": 0,
      "outputs": []
    },
    {
      "cell_type": "code",
      "metadata": {
        "id": "6XIKPcmeln3b",
        "colab_type": "code",
        "colab": {}
      },
      "source": [
        ""
      ],
      "execution_count": 0,
      "outputs": []
    },
    {
      "cell_type": "markdown",
      "metadata": {
        "id": "OrqooImQpx0j",
        "colab_type": "text"
      },
      "source": [
        "## Results"
      ]
    },
    {
      "cell_type": "markdown",
      "metadata": {
        "id": "b_PDOIbOyeV4",
        "colab_type": "text"
      },
      "source": [
        "### ResNet"
      ]
    },
    {
      "cell_type": "code",
      "metadata": {
        "id": "0fnOHElDpyxZ",
        "colab_type": "code",
        "colab": {}
      },
      "source": [
        "resnet_pred = resnet.predict_generator(\n",
        "    generator=test_generator\n",
        ")"
      ],
      "execution_count": 0,
      "outputs": []
    },
    {
      "cell_type": "code",
      "metadata": {
        "id": "6p6P4O3CKNqE",
        "colab_type": "code",
        "colab": {}
      },
      "source": [
        "for idx, cls in enumerate(CLASSES):\n",
        "  print('{} AUC:  '.format(cls), roc_auc_score(test_df[cls], resnet_pred[:,idx]))"
      ],
      "execution_count": 0,
      "outputs": []
    },
    {
      "cell_type": "markdown",
      "metadata": {
        "id": "d9hhyCtvygjw",
        "colab_type": "text"
      },
      "source": [
        "### DenseNet"
      ]
    },
    {
      "cell_type": "code",
      "metadata": {
        "id": "OAX0YpNlymJG",
        "colab_type": "code",
        "colab": {}
      },
      "source": [
        "densenet_pred = densenet.predict_generator(\n",
        "    generator=test_generator\n",
        ")"
      ],
      "execution_count": 0,
      "outputs": []
    },
    {
      "cell_type": "code",
      "metadata": {
        "id": "2f8EfxqkymZY",
        "colab_type": "code",
        "colab": {}
      },
      "source": [
        "for idx, cls in enumerate(CLASSES):\n",
        "  print('{} AUC:  '.format(cls), roc_auc_score(test_df[cls], densenet_pred[:,idx]))"
      ],
      "execution_count": 0,
      "outputs": []
    },
    {
      "cell_type": "markdown",
      "metadata": {
        "id": "QVPRitd7ym3h",
        "colab_type": "text"
      },
      "source": [
        "### EfficientNet"
      ]
    },
    {
      "cell_type": "code",
      "metadata": {
        "id": "BaXlwWhyyqVJ",
        "colab_type": "code",
        "colab": {}
      },
      "source": [
        "efficientnet_pred = efficientnet.predict_generator(\n",
        "    generator=test_generator\n",
        ")"
      ],
      "execution_count": 0,
      "outputs": []
    },
    {
      "cell_type": "code",
      "metadata": {
        "id": "vPV4g57vyqSA",
        "colab_type": "code",
        "colab": {}
      },
      "source": [
        "for idx, cls in enumerate(CLASSES):\n",
        "  print('{} AUC:  '.format(cls), roc_auc_score(test_df[cls], efficientnet_pred[:,idx]))"
      ],
      "execution_count": 0,
      "outputs": []
    },
    {
      "cell_type": "markdown",
      "metadata": {
        "id": "5YBwkiyxpzW0",
        "colab_type": "text"
      },
      "source": [
        "## Conclusions"
      ]
    },
    {
      "cell_type": "code",
      "metadata": {
        "id": "5-8Vguqep0hY",
        "colab_type": "code",
        "colab": {}
      },
      "source": [
        ""
      ],
      "execution_count": 0,
      "outputs": []
    }
  ]
}